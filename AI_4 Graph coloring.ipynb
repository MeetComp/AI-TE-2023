{
 "cells": [
  {
   "cell_type": "code",
   "execution_count": 11,
   "id": "f4c4e814",
   "metadata": {},
   "outputs": [
    {
     "name": "stdout",
     "output_type": "stream",
     "text": [
      "Solution Exists: Following are the assigned colors \n",
      "1 2 3 2 "
     ]
    }
   ],
   "source": [
    "def isSafe(graph, color):\n",
    "\n",
    "\t\n",
    "\tfor i in range(4):\n",
    "\t\tfor j in range(i + 1, 4):\n",
    "\t\t\tif (graph[i][j] and color[j] == color[i]):\n",
    "\t\t\t\treturn False\n",
    "\treturn True\n",
    "\n",
    "\n",
    "def graphColoring(graph, m, i, color):\n",
    "\n",
    "\t\n",
    "\tif (i == 4):\n",
    "\n",
    "\t\t\n",
    "\t\tif (isSafe(graph, color)):\n",
    "\n",
    "\t\t\t\n",
    "\t\t\tprintSolution(color)\n",
    "\t\t\treturn True\n",
    "\t\treturn False\n",
    "\n",
    "\t\n",
    "\tfor j in range(1, m + 1):\n",
    "\t\tcolor[i] = j\n",
    "\n",
    "\t\t\n",
    "\t\tif (graphColoring(graph, m, i + 1, color)):\n",
    "\t\t\treturn True\n",
    "\t\tcolor[i] = 0\n",
    "\treturn False\n",
    "\n",
    "\n",
    "def printSolution(color):\n",
    "\tprint(\"Solution Exists:\" \" Following are the assigned colors \")\n",
    "\tfor i in range(4):\n",
    "\t\tprint(color[i],end=\" \")\n",
    "\n",
    "\n",
    "if __name__ == '__main__':\n",
    "\n",
    "\t\tgraph = [\n",
    "\t\t[ 0, 1, 1, 1 ],\n",
    "\t\t[ 1, 0, 1, 0 ],\n",
    "\t\t[ 1, 1, 0, 1 ],\n",
    "\t\t[ 1, 0, 1, 0 ],\n",
    "\t]\n",
    "m = 3 \n",
    "\n",
    "\n",
    "color = [0 for i in range(4)]\n",
    "\n",
    "if (not graphColoring(graph, m, 0, color)):\n",
    "\t\tprint (\"Solution does not exist\")\n",
    "\n"
   ]
  },
  {
   "cell_type": "code",
   "execution_count": null,
   "id": "80e04ed5",
   "metadata": {},
   "outputs": [],
   "source": []
  }
 ],
 "metadata": {
  "kernelspec": {
   "display_name": "Python 3 (ipykernel)",
   "language": "python",
   "name": "python3"
  },
  "language_info": {
   "codemirror_mode": {
    "name": "ipython",
    "version": 3
   },
   "file_extension": ".py",
   "mimetype": "text/x-python",
   "name": "python",
   "nbconvert_exporter": "python",
   "pygments_lexer": "ipython3",
   "version": "3.10.9"
  }
 },
 "nbformat": 4,
 "nbformat_minor": 5
}
