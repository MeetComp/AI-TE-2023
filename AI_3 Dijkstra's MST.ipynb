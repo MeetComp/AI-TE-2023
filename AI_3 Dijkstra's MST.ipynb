{
 "cells": [
  {
   "cell_type": "code",
   "execution_count": 3,
   "id": "ddaa1a4f",
   "metadata": {},
   "outputs": [
    {
     "name": "stdout",
     "output_type": "stream",
     "text": [
      "[4, 3, 1, 0, 1]\n"
     ]
    }
   ],
   "source": [
    "from numpy import Inf\n",
    "def Dijkstra(graph, start):\n",
    "    l = len(graph)\n",
    "    \n",
    "    dist = [Inf for i in range(l)]\n",
    "    \n",
    "    dist[start] = 0\n",
    "    \n",
    "    vis = [False for i in range(l)]\n",
    "    \n",
    "    \n",
    "    for i in range(l):\n",
    "        u = -1 \n",
    "        for x in range(l):\n",
    "            \n",
    "            if not vis[x] and (u == -1 or dist[x] < dist[u]):\n",
    "                u = x\n",
    "        if dist[u] == Inf:\n",
    "            break\n",
    "            \n",
    "        vis[u] = True\n",
    "        \n",
    "        for v, d in graph[u]:\n",
    "            if dist[u] + d < dist[v]:\n",
    "                dist[v] = dist[u] + d           \n",
    "    return dist\n",
    "\n",
    "graph = {\n",
    "    0: [(1, 1)],\n",
    "    1: [(0, 1), (2, 2), (3, 3)],\n",
    "    2: [(1, 2), (3, 1), (4, 5)],\n",
    "    3: [(1, 3), (2, 1), (4, 1)],\n",
    "    4: [(2, 5), (3, 1)]\n",
    "}\n",
    "print(Dijkstra(graph,3))"
   ]
  },
  {
   "cell_type": "code",
   "execution_count": null,
   "id": "7ce7bba3",
   "metadata": {},
   "outputs": [],
   "source": []
  }
 ],
 "metadata": {
  "kernelspec": {
   "display_name": "Python 3 (ipykernel)",
   "language": "python",
   "name": "python3"
  },
  "language_info": {
   "codemirror_mode": {
    "name": "ipython",
    "version": 3
   },
   "file_extension": ".py",
   "mimetype": "text/x-python",
   "name": "python",
   "nbconvert_exporter": "python",
   "pygments_lexer": "ipython3",
   "version": "3.10.9"
  }
 },
 "nbformat": 4,
 "nbformat_minor": 5
}
